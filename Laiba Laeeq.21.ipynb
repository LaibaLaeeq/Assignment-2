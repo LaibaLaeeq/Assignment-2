{
 "cells": [
  {
   "cell_type": "markdown",
   "id": "ceb547c4",
   "metadata": {},
   "source": [
    "# Assignment No.2\n",
    "\n",
    "## Laiba Laeeq"
   ]
  },
  {
   "cell_type": "markdown",
   "id": "1af954f6",
   "metadata": {},
   "source": [
    " ### *Declare and print a variable with the name \\\"name\\\" containing your name*"
   ]
  },
  {
   "cell_type": "code",
   "execution_count": 1,
   "id": "e93523fa",
   "metadata": {},
   "outputs": [
    {
     "name": "stdout",
     "output_type": "stream",
     "text": [
      "Laiba Laeeq\n"
     ]
    }
   ],
   "source": [
    "Name = \"Laiba Laeeq\"\n",
    "print(Name)"
   ]
  },
  {
   "cell_type": "markdown",
   "id": "2044a154",
   "metadata": {},
   "source": []
  },
  {
   "cell_type": "markdown",
   "id": "4674b4c8",
   "metadata": {},
   "source": [
    "\n",
    "  ### *Create two variables, x and y, and swap their values without using a third variable*"
   ]
  },
  {
   "cell_type": "code",
   "execution_count": 67,
   "id": "6209f262",
   "metadata": {},
   "outputs": [
    {
     "name": "stdout",
     "output_type": "stream",
     "text": [
      "x= 62\n",
      "y= 25\n"
     ]
    }
   ],
   "source": [
    "x=25\n",
    "y=62\n",
    "x, y = y, x\n",
    "print(\"x=\",x)\n",
    "print(\"y=\",y)\n"
   ]
  },
  {
   "cell_type": "markdown",
   "id": "f968142b",
   "metadata": {},
   "source": []
  },
  {
   "cell_type": "markdown",
   "id": "714f1ba3",
   "metadata": {},
   "source": [
    "### *Calculate the area of a rectangle with length and width stored in variables*"
   ]
  },
  {
   "cell_type": "code",
   "execution_count": 6,
   "id": "76440626",
   "metadata": {},
   "outputs": [
    {
     "name": "stdout",
     "output_type": "stream",
     "text": [
      "72\n"
     ]
    }
   ],
   "source": [
    "Lenght=6\n",
    "Width=12\n",
    "Area=Lenght*Width\n",
    "print(Area)"
   ]
  },
  {
   "cell_type": "markdown",
   "id": "b90dde32",
   "metadata": {},
   "source": []
  },
  {
   "cell_type": "markdown",
   "id": "d9c28a8a",
   "metadata": {},
   "source": [
    "### *Create a variable with a long string (multi-line) and print its length*"
   ]
  },
  {
   "cell_type": "code",
   "execution_count": 9,
   "id": "86ea475c",
   "metadata": {},
   "outputs": [
    {
     "name": "stdout",
     "output_type": "stream",
     "text": [
      "\"Data science is an interdisciplinary academic field that uses statistics, scientific computing, scientific methods,\n",
      "processes, algorithms and systems to extract or extrapolate knowledge\n",
      "and insights from noisy, structured, and unstructured data\n"
     ]
    },
    {
     "data": {
      "text/plain": [
       "245"
      ]
     },
     "execution_count": 9,
     "metadata": {},
     "output_type": "execute_result"
    }
   ],
   "source": [
    "a=\"\"\"\"Data science is an interdisciplinary academic field that uses statistics, scientific computing, scientific methods,\n",
    "processes, algorithms and systems to extract or extrapolate knowledge\n",
    "and insights from noisy, structured, and unstructured data\"\"\"\n",
    "print(a)\n",
    "len(a)"
   ]
  },
  {
   "cell_type": "markdown",
   "id": "094c4084",
   "metadata": {},
   "source": []
  },
  {
   "cell_type": "markdown",
   "id": "83387774",
   "metadata": {},
   "source": [
    "### *Create a variable to store your favorite number and print it*"
   ]
  },
  {
   "cell_type": "code",
   "execution_count": 15,
   "id": "a252f8a8",
   "metadata": {},
   "outputs": [
    {
     "name": "stdout",
     "output_type": "stream",
     "text": [
      "49\n"
     ]
    }
   ],
   "source": [
    "Z=49\n",
    "print(Z)"
   ]
  },
  {
   "cell_type": "markdown",
   "id": "0264fe4e",
   "metadata": {},
   "source": []
  },
  {
   "cell_type": "markdown",
   "id": "7b73db6c",
   "metadata": {},
   "source": [
    "### *Declare and assign values to multiple variables to represent the sides of a triangle. Calculate and print its perimeter*"
   ]
  },
  {
   "cell_type": "code",
   "execution_count": 18,
   "id": "5ed509f6",
   "metadata": {},
   "outputs": [
    {
     "name": "stdout",
     "output_type": "stream",
     "text": [
      "26\n"
     ]
    }
   ],
   "source": [
    "x=12\n",
    "y=6\n",
    "z=8\n",
    "Perimeter=(x+y+z)\n",
    "print(Perimeter)"
   ]
  },
  {
   "cell_type": "markdown",
   "id": "4fc69a0b",
   "metadata": {},
   "source": []
  },
  {
   "cell_type": "markdown",
   "id": "1a32f379",
   "metadata": {},
   "source": [
    "### *Store the price of an item in one variable and the quantity in another. Calculate and print the total cost*"
   ]
  },
  {
   "cell_type": "code",
   "execution_count": 20,
   "id": "65a44eca",
   "metadata": {},
   "outputs": [
    {
     "name": "stdout",
     "output_type": "stream",
     "text": [
      "168\n"
     ]
    }
   ],
   "source": [
    "item_price=42\n",
    "quantity=4\n",
    "total_cost=(item_price*quantity)\n",
    "print(total_cost)"
   ]
  },
  {
   "cell_type": "markdown",
   "id": "8217fb0a",
   "metadata": {},
   "source": [
    "### *Declare a constant variable for the value of pi (π) and use it to calculate the circumference of a circle with a given radius*"
   ]
  },
  {
   "cell_type": "code",
   "execution_count": 24,
   "id": "55ecd5d0",
   "metadata": {},
   "outputs": [
    {
     "name": "stdout",
     "output_type": "stream",
     "text": [
      "62.800000000000004\n"
     ]
    }
   ],
   "source": [
    "pie=3.14\n",
    "r=10\n",
    "cir=(2*pie*r)\n",
    "print(cir)"
   ]
  },
  {
   "cell_type": "markdown",
   "id": "0c6aed94",
   "metadata": {},
   "source": []
  },
  {
   "cell_type": "markdown",
   "id": "e83e7ea7",
   "metadata": {},
   "source": [
    "### *Calculate the sum of two numbers, a and b*"
   ]
  },
  {
   "cell_type": "code",
   "execution_count": 25,
   "id": "4b0a5be8",
   "metadata": {},
   "outputs": [
    {
     "name": "stdout",
     "output_type": "stream",
     "text": [
      "67\n"
     ]
    }
   ],
   "source": [
    "a=34\n",
    "b=33\n",
    "sum=a+b\n",
    "print(sum)"
   ]
  },
  {
   "cell_type": "markdown",
   "id": "f4a0109f",
   "metadata": {},
   "source": []
  },
  {
   "cell_type": "markdown",
   "id": "f39233fb",
   "metadata": {},
   "source": [
    "### *Calculate the product of two numbers, a and b*"
   ]
  },
  {
   "cell_type": "code",
   "execution_count": 26,
   "id": "c278daf4",
   "metadata": {},
   "outputs": [
    {
     "name": "stdout",
     "output_type": "stream",
     "text": [
      "28\n"
     ]
    }
   ],
   "source": [
    "a=4\n",
    "b=7\n",
    "product=a*b\n",
    "print(product)"
   ]
  },
  {
   "cell_type": "markdown",
   "id": "3aeea110",
   "metadata": {},
   "source": []
  },
  {
   "cell_type": "markdown",
   "id": "5147395b",
   "metadata": {},
   "source": [
    "### *Calculate the result of dividing a by b (with proper error handling for division by zero)*"
   ]
  },
  {
   "cell_type": "code",
   "execution_count": 28,
   "id": "2924e5db",
   "metadata": {},
   "outputs": [
    {
     "ename": "ZeroDivisionError",
     "evalue": "division by zero",
     "output_type": "error",
     "traceback": [
      "\u001b[1;31m---------------------------------------------------------------------------\u001b[0m",
      "\u001b[1;31mZeroDivisionError\u001b[0m                         Traceback (most recent call last)",
      "Cell \u001b[1;32mIn[28], line 3\u001b[0m\n\u001b[0;32m      1\u001b[0m a\u001b[38;5;241m=\u001b[39m\u001b[38;5;241m64\u001b[39m\n\u001b[0;32m      2\u001b[0m b\u001b[38;5;241m=\u001b[39m\u001b[38;5;241m0\u001b[39m\n\u001b[1;32m----> 3\u001b[0m div\u001b[38;5;241m=\u001b[39ma\u001b[38;5;241m/\u001b[39mb\n\u001b[0;32m      4\u001b[0m \u001b[38;5;28mprint\u001b[39m(div)\n",
      "\u001b[1;31mZeroDivisionError\u001b[0m: division by zero"
     ]
    }
   ],
   "source": [
    "a=64\n",
    "b=0\n",
    "div=a/b\n",
    "print(div)"
   ]
  },
  {
   "cell_type": "markdown",
   "id": "5586f260",
   "metadata": {},
   "source": []
  },
  {
   "cell_type": "markdown",
   "id": "8b0c78c0",
   "metadata": {},
   "source": [
    "### *Calculate the square of a number x*"
   ]
  },
  {
   "cell_type": "code",
   "execution_count": 33,
   "id": "51f72749",
   "metadata": {},
   "outputs": [
    {
     "name": "stdout",
     "output_type": "stream",
     "text": [
      "36\n"
     ]
    }
   ],
   "source": [
    "x=6\n",
    "square=6**2\n",
    "print(square)"
   ]
  },
  {
   "cell_type": "markdown",
   "id": "38db13fa",
   "metadata": {},
   "source": []
  },
  {
   "cell_type": "markdown",
   "id": "06339a90",
   "metadata": {},
   "source": [
    "### *Calculate the remainder when a is divided by b*"
   ]
  },
  {
   "cell_type": "code",
   "execution_count": 38,
   "id": "e9d980de",
   "metadata": {},
   "outputs": [
    {
     "name": "stdout",
     "output_type": "stream",
     "text": [
      "4\n"
     ]
    }
   ],
   "source": [
    "a=60\n",
    "b=7\n",
    "Rem=a%b\n",
    "print(Rem)\n"
   ]
  },
  {
   "cell_type": "markdown",
   "id": "bd08e9d2",
   "metadata": {},
   "source": []
  },
  {
   "cell_type": "markdown",
   "id": "a88fdeb2",
   "metadata": {},
   "source": [
    "\n",
    "### *Calculate the result of dividing 17 by 3 and print the quotient and remainder*"
   ]
  },
  {
   "cell_type": "code",
   "execution_count": 62,
   "id": "dd5d904a",
   "metadata": {},
   "outputs": [
    {
     "name": "stdout",
     "output_type": "stream",
     "text": [
      "Rem 2\n",
      "Quot 15.4\n"
     ]
    }
   ],
   "source": [
    "a=77\n",
    "b=5\n",
    "Rem=a%b\n",
    "print(\"Rem\",Rem)\n",
    "Quot=a/b\n",
    "print(\"Quot\",Quot)"
   ]
  },
  {
   "cell_type": "markdown",
   "id": "1f74be93",
   "metadata": {},
   "source": [
    "### *Calculate the area of a square with a given side length*"
   ]
  },
  {
   "cell_type": "code",
   "execution_count": 55,
   "id": "283d282b",
   "metadata": {},
   "outputs": [
    {
     "name": "stdout",
     "output_type": "stream",
     "text": [
      "16\n"
     ]
    }
   ],
   "source": [
    "side=4\n",
    "Area=side*side\n",
    "print(Area)"
   ]
  },
  {
   "cell_type": "markdown",
   "id": "384645f2",
   "metadata": {},
   "source": []
  },
  {
   "cell_type": "markdown",
   "id": "77e6cad5",
   "metadata": {},
   "source": [
    "### *Calculate the average of five numbers*"
   ]
  },
  {
   "cell_type": "code",
   "execution_count": 56,
   "id": "28bf9fed",
   "metadata": {},
   "outputs": [
    {
     "name": "stdout",
     "output_type": "stream",
     "text": [
      "15.0\n"
     ]
    }
   ],
   "source": [
    "num1=5\n",
    "num2=10\n",
    "num3=15\n",
    "num4=20\n",
    "num5=25\n",
    "Average=(num1+num2+num3+num4+num5)/5\n",
    "print(Average)\n"
   ]
  },
  {
   "cell_type": "markdown",
   "id": "d0832bb2",
   "metadata": {},
   "source": [
    "### *Create a variable with a boolean value and print its opposite value*"
   ]
  },
  {
   "cell_type": "code",
   "execution_count": 75,
   "id": "f5b3eabd",
   "metadata": {},
   "outputs": [
    {
     "name": "stdout",
     "output_type": "stream",
     "text": [
      "False\n"
     ]
    }
   ],
   "source": [
    "value = True\n",
    "opp_value = not value\n",
    "print(opp_value)\n"
   ]
  },
  {
   "cell_type": "markdown",
   "id": "d2094776",
   "metadata": {},
   "source": [
    "### *Store your birth year in a variable and calculate your age*"
   ]
  },
  {
   "cell_type": "code",
   "execution_count": 76,
   "id": "5327f6e9",
   "metadata": {},
   "outputs": [
    {
     "name": "stdout",
     "output_type": "stream",
     "text": [
      "23\n"
     ]
    }
   ],
   "source": [
    "birth_year=2000\n",
    "current_year=2023\n",
    "age=current_year-birth_year\n",
    "print(age)"
   ]
  },
  {
   "cell_type": "markdown",
   "id": "96ace1fc",
   "metadata": {},
   "source": [
    "### *Create a variable with an integer and convert it to a float*"
   ]
  },
  {
   "cell_type": "code",
   "execution_count": 83,
   "id": "e509cba9",
   "metadata": {},
   "outputs": [
    {
     "data": {
      "text/plain": [
       "int"
      ]
     },
     "execution_count": 83,
     "metadata": {},
     "output_type": "execute_result"
    }
   ],
   "source": [
    "a=5\n",
    "type(a)\n"
   ]
  },
  {
   "cell_type": "code",
   "execution_count": 90,
   "id": "5af26cdd",
   "metadata": {},
   "outputs": [
    {
     "name": "stdout",
     "output_type": "stream",
     "text": [
      "5.0\n"
     ]
    }
   ],
   "source": [
    "a=float(a)\n",
    "print(a)"
   ]
  },
  {
   "cell_type": "code",
   "execution_count": 93,
   "id": "d1739a1f",
   "metadata": {},
   "outputs": [
    {
     "data": {
      "text/plain": [
       "float"
      ]
     },
     "execution_count": 93,
     "metadata": {},
     "output_type": "execute_result"
    }
   ],
   "source": [
    "type(a)"
   ]
  },
  {
   "cell_type": "markdown",
   "id": "832b7802",
   "metadata": {},
   "source": [
    "### *Create a variable with a float and convert it to an integer*"
   ]
  },
  {
   "cell_type": "code",
   "execution_count": 91,
   "id": "7839b65a",
   "metadata": {},
   "outputs": [
    {
     "data": {
      "text/plain": [
       "float"
      ]
     },
     "execution_count": 91,
     "metadata": {},
     "output_type": "execute_result"
    }
   ],
   "source": [
    "b=62.7\n",
    "type(b)"
   ]
  },
  {
   "cell_type": "code",
   "execution_count": 92,
   "id": "5ab1aeeb",
   "metadata": {},
   "outputs": [
    {
     "name": "stdout",
     "output_type": "stream",
     "text": [
      "62\n"
     ]
    }
   ],
   "source": [
    "b=int(b)\n",
    "print(b)"
   ]
  },
  {
   "cell_type": "code",
   "execution_count": 94,
   "id": "6db6c0ab",
   "metadata": {},
   "outputs": [
    {
     "data": {
      "text/plain": [
       "int"
      ]
     },
     "execution_count": 94,
     "metadata": {},
     "output_type": "execute_result"
    }
   ],
   "source": [
    "type(b)"
   ]
  },
  {
   "cell_type": "markdown",
   "id": "9f8ec1f2",
   "metadata": {},
   "source": [
    "### *Create a variable with a string that represents an integer and convert it to an integer*"
   ]
  },
  {
   "cell_type": "code",
   "execution_count": 95,
   "id": "c884458c",
   "metadata": {},
   "outputs": [
    {
     "data": {
      "text/plain": [
       "str"
      ]
     },
     "execution_count": 95,
     "metadata": {},
     "output_type": "execute_result"
    }
   ],
   "source": [
    "x=\"8964\"\n",
    "type(x)"
   ]
  },
  {
   "cell_type": "code",
   "execution_count": 96,
   "id": "d97319d2",
   "metadata": {},
   "outputs": [
    {
     "name": "stdout",
     "output_type": "stream",
     "text": [
      "8964\n"
     ]
    }
   ],
   "source": [
    "x=int(x)\n",
    "print(x)"
   ]
  },
  {
   "cell_type": "code",
   "execution_count": 97,
   "id": "bb4dc889",
   "metadata": {},
   "outputs": [
    {
     "data": {
      "text/plain": [
       "int"
      ]
     },
     "execution_count": 97,
     "metadata": {},
     "output_type": "execute_result"
    }
   ],
   "source": [
    "type(x)"
   ]
  },
  {
   "cell_type": "markdown",
   "id": "07b2ab61",
   "metadata": {},
   "source": [
    "### *Create a variable with a string that represents a float and convert it to a float*"
   ]
  },
  {
   "cell_type": "code",
   "execution_count": 98,
   "id": "ed1f12a9",
   "metadata": {},
   "outputs": [
    {
     "data": {
      "text/plain": [
       "str"
      ]
     },
     "execution_count": 98,
     "metadata": {},
     "output_type": "execute_result"
    }
   ],
   "source": [
    "y=\"875.796\"\n",
    "type(y)"
   ]
  },
  {
   "cell_type": "code",
   "execution_count": 99,
   "id": "45b0a217",
   "metadata": {},
   "outputs": [
    {
     "name": "stdout",
     "output_type": "stream",
     "text": [
      "875.796\n"
     ]
    }
   ],
   "source": [
    "y=float(y)\n",
    "print(y)"
   ]
  },
  {
   "cell_type": "code",
   "execution_count": 100,
   "id": "6532106c",
   "metadata": {},
   "outputs": [
    {
     "data": {
      "text/plain": [
       "float"
      ]
     },
     "execution_count": 100,
     "metadata": {},
     "output_type": "execute_result"
    }
   ],
   "source": [
    "type(y)"
   ]
  },
  {
   "cell_type": "markdown",
   "id": "f9988fa8",
   "metadata": {},
   "source": [
    "### *Create a variable with a number and convert it to a string*"
   ]
  },
  {
   "cell_type": "code",
   "execution_count": 103,
   "id": "621333a9",
   "metadata": {},
   "outputs": [
    {
     "data": {
      "text/plain": [
       "int"
      ]
     },
     "execution_count": 103,
     "metadata": {},
     "output_type": "execute_result"
    }
   ],
   "source": [
    "a=67\n",
    "type(a)"
   ]
  },
  {
   "cell_type": "code",
   "execution_count": 105,
   "id": "97048993",
   "metadata": {},
   "outputs": [
    {
     "name": "stdout",
     "output_type": "stream",
     "text": [
      "67\n"
     ]
    }
   ],
   "source": [
    "a=str(a)\n",
    "print(a)"
   ]
  },
  {
   "cell_type": "code",
   "execution_count": 106,
   "id": "8fb35356",
   "metadata": {},
   "outputs": [
    {
     "data": {
      "text/plain": [
       "str"
      ]
     },
     "execution_count": 106,
     "metadata": {},
     "output_type": "execute_result"
    }
   ],
   "source": [
    "type(a)"
   ]
  },
  {
   "cell_type": "markdown",
   "id": "b225139a",
   "metadata": {},
   "source": [
    "### *Calculate the absolute value of a number*"
   ]
  },
  {
   "cell_type": "code",
   "execution_count": 107,
   "id": "527e5b37",
   "metadata": {},
   "outputs": [
    {
     "name": "stdout",
     "output_type": "stream",
     "text": [
      "68782\n"
     ]
    }
   ],
   "source": [
    "y=-68782\n",
    "y=abs(y)\n",
    "print(y)"
   ]
  },
  {
   "cell_type": "markdown",
   "id": "1caca364",
   "metadata": {},
   "source": [
    "### *Calculate the square root of a number*"
   ]
  },
  {
   "cell_type": "code",
   "execution_count": 111,
   "id": "9a30670b",
   "metadata": {},
   "outputs": [
    {
     "name": "stdout",
     "output_type": "stream",
     "text": [
      "8.0\n"
     ]
    }
   ],
   "source": [
    "b=64\n",
    "square_root=b**0.5\n",
    "print(square_root)"
   ]
  },
  {
   "cell_type": "markdown",
   "id": "a80ba8d3",
   "metadata": {},
   "source": [
    "### *Calculate the value of a raised to the power of b*"
   ]
  },
  {
   "cell_type": "code",
   "execution_count": 114,
   "id": "181e37bd",
   "metadata": {},
   "outputs": [
    {
     "name": "stdout",
     "output_type": "stream",
     "text": [
      "216\n"
     ]
    }
   ],
   "source": [
    "a=6\n",
    "b=3\n",
    "power=a**b\n",
    "print(power)"
   ]
  },
  {
   "cell_type": "markdown",
   "id": "daa52e67",
   "metadata": {},
   "source": [
    "### *Round a float to the nearest integer*"
   ]
  },
  {
   "cell_type": "code",
   "execution_count": 116,
   "id": "e602af7a",
   "metadata": {},
   "outputs": [
    {
     "name": "stdout",
     "output_type": "stream",
     "text": [
      "658\n"
     ]
    }
   ],
   "source": [
    "float_value=657.735\n",
    "round_int=round(float_value)\n",
    "print(round_int)"
   ]
  },
  {
   "cell_type": "markdown",
   "id": "9135087c",
   "metadata": {},
   "source": [
    "### *Combine multiple conditions using logical operators and print the result*"
   ]
  },
  {
   "cell_type": "code",
   "execution_count": 137,
   "id": "4d3fc096",
   "metadata": {},
   "outputs": [
    {
     "name": "stdout",
     "output_type": "stream",
     "text": [
      "True\n"
     ]
    }
   ],
   "source": [
    "x=7\n",
    "y=4\n",
    "A =x>5 \n",
    "B =y<2\n",
    "result=(A or B)\n",
    "print(result)"
   ]
  },
  {
   "cell_type": "code",
   "execution_count": 138,
   "id": "32bfd2eb",
   "metadata": {},
   "outputs": [
    {
     "name": "stdout",
     "output_type": "stream",
     "text": [
      "False\n"
     ]
    }
   ],
   "source": [
    "A=x<5\n",
    "B=y>2\n",
    "result=(A and B)\n",
    "print(result)"
   ]
  },
  {
   "cell_type": "code",
   "execution_count": 139,
   "id": "ffbf61aa",
   "metadata": {},
   "outputs": [
    {
     "name": "stdout",
     "output_type": "stream",
     "text": [
      "True\n"
     ]
    }
   ],
   "source": [
    "A=x<5\n",
    "B=y>2\n",
    "result=(not(A==b))\n",
    "print(result)"
   ]
  },
  {
   "cell_type": "markdown",
   "id": "72d8045a",
   "metadata": {},
   "source": [
    "### *Generate a random number between 1 and 100*"
   ]
  },
  {
   "cell_type": "code",
   "execution_count": 143,
   "id": "2c834405",
   "metadata": {},
   "outputs": [
    {
     "name": "stdout",
     "output_type": "stream",
     "text": [
      "58\n"
     ]
    }
   ],
   "source": [
    "import random\n",
    "Random_num=random.randint(1,100)\n",
    "print(Random_num)"
   ]
  },
  {
   "cell_type": "markdown",
   "id": "7cdba151",
   "metadata": {},
   "source": []
  }
 ],
 "metadata": {
  "kernelspec": {
   "display_name": "Python 3 (ipykernel)",
   "language": "python",
   "name": "python3"
  },
  "language_info": {
   "codemirror_mode": {
    "name": "ipython",
    "version": 3
   },
   "file_extension": ".py",
   "mimetype": "text/x-python",
   "name": "python",
   "nbconvert_exporter": "python",
   "pygments_lexer": "ipython3",
   "version": "3.11.5"
  }
 },
 "nbformat": 4,
 "nbformat_minor": 5
}
